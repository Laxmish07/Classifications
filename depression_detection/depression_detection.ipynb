{
 "cells": [
  {
   "cell_type": "code",
   "execution_count": null,
   "metadata": {},
   "outputs": [
    {
     "name": "stdout",
     "output_type": "stream",
     "text": [
      "Number of people in each state of depression:\n",
      "Mild depression                 294\n",
      "Moderate Depression             185\n",
      "No depression                   118\n",
      "Moderately Severe Depression     64\n",
      "Severe Depression                11\n",
      "Name: Depression State, dtype: int64\n",
      "\n",
      "Correlation coefficient between Age range and PHQ-9 collective score: 0.0041682931388765665\n"
     ]
    },
    {
     "data": {
      "image/png": "[encoded data removed]",
      "text/plain": [
       "<Figure size 432x288 with 1 Axes>"
      ]
     },
     "metadata": {
      "needs_background": "light"
     },
     "output_type": "display_data"
    }
   ],
   "source": [
    "import numpy as np\n",
    "import pandas as pd\n",
    "import matplotlib.pyplot as plt\n",
    "from sklearn.linear_model import LinearRegression\n",
    "from sklearn.metrics import mean_squared_error\n",
    "from sklearn.model_selection import train_test_split\n",
    "\n",
    "df = pd.read_csv(\"E:\\CSU Work\\Thesis and RA\\dataset_3\\depression_scale_PHQ.csv\")\n",
    "question1 = df.columns[10]\n",
    "question2 = df.columns[11]\n",
    "question3 = df.columns[12]\n",
    "question4 = df.columns[13]\n",
    "question5 = df.columns[14]\n",
    "question6 = df.columns[15]\n",
    "question7 = df.columns[16]\n",
    "question8 = df.columns[17]\n",
    "question9 = df.columns[18]\n",
    "# label Encoding for Data Transformation and Normalization\n",
    "distance_mapping = {\n",
    "    \"Not at all (0)\": 0,\n",
    "    \"Several days (1)\": 1,\n",
    "    \"Half of days (2)\": 2,\n",
    "    \"Nearly every day (3)\": 3,\n",
    "}\n",
    "df[question1] = df[question1].map(distance_mapping)\n",
    "df[question2] = df[question2].map(distance_mapping)\n",
    "df[question3] = df[question3].map(distance_mapping)\n",
    "df[question4] = df[question4].map(distance_mapping)\n",
    "df[question5] = df[question5].map(distance_mapping)\n",
    "df[question6] = df[question6].map(distance_mapping)\n",
    "df[question7] = df[question7].map(distance_mapping)\n",
    "df[question8] = df[question8].map(distance_mapping)\n",
    "df[question9] = df[question9].map(distance_mapping)\n",
    "# Convert Nominal Data to Ordinal\n",
    "df['Age range in years'] = df['Age range in years'].map({'15-30': 25, 'Above 30': 50})\n",
    "#Filter only useful Data\n",
    "df = df[['Age range in years',question1,question2,question3,question4,question5,question6,question7,question8,question9]]\n",
    "#Calculate the xollective score for each age group\n",
    "df['Collective Score'] = df.iloc[:, 1:].sum(axis=1)\n",
    "# Function to determine state of depression based on collective score\n",
    "def determine_depression_state(score):\n",
    "    if score >= 0 and score <= 4:\n",
    "        return 'No depression'\n",
    "    elif score >= 5 and score <= 9:\n",
    "        return 'Mild depression'\n",
    "    elif score >= 10 and score <= 14:\n",
    "        return 'Moderate Depression'\n",
    "    elif score >= 15 and score <= 19:\n",
    "        return 'Moderately Severe Depression'\n",
    "    elif score >= 20 and score <= 27:\n",
    "        return 'Severe Depression'\n",
    "\n",
    "# Apply function to determine depression state\n",
    "df['Depression State'] = df['Collective Score'].apply(determine_depression_state)\n",
    "\n",
    "# Count the number of people in each state of depression\n",
    "depression_counts = df['Depression State'].value_counts()\n",
    "\n",
    "# Calculate the correlation coefficient between Age range and PHQ-9 collective score\n",
    "correlation_coefficient = df['Age range in years'].corr(df['Collective Score'])\n",
    "\n",
    "# Print results\n",
    "print(\"Number of people in each state of depression:\")\n",
    "print(depression_counts)\n",
    "print(\"\\nCorrelation coefficient between Age range and PHQ-9 collective score:\", correlation_coefficient)\n",
    "\n",
    "\n",
    "# Plot the Correlation\n",
    "plt.scatter(df['Age range in years'], df['Collective Score'])\n",
    "plt.title('Correlation between Age Range and PHQ-9 Collective Score')\n",
    "plt.xlabel('Age Range (years)')\n",
    "plt.ylabel('PHQ-9 Collective Score')\n",
    "# Rename with the original data\n",
    "plt.xticks([25, 50], ['15-30', 'Above 30'])\n",
    "plt.show()"
   ]
  }
 ],
 "metadata": {
  "kernelspec": {
   "display_name": "Python 3",
   "language": "python",
   "name": "python3"
  },
  "language_info": {
   "codemirror_mode": {
    "name": "ipython",
    "version": 3
   },
   "file_extension": ".py",
   "mimetype": "text/x-python",
   "name": "python",
   "nbconvert_exporter": "python",
   "pygments_lexer": "ipython3",
   "version": "3.7.0"
  }
 },
 "nbformat": 4,
 "nbformat_minor": 2
}
